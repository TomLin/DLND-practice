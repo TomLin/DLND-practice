{
 "cells": [
  {
   "cell_type": "markdown",
   "metadata": {
    "collapsed": true,
    "nbpresent": {
     "id": "0abc0978-9e1d-4dc4-9bb3-361ecb95b9cf"
    }
   },
   "source": [
    "# Solutions\n",
    "## Problem 1\n",
    "Implement the Min-Max scaling function ($X'=a+{\\frac {\\left(X-X_{\\min }\\right)\\left(b-a\\right)}{X_{\\max }-X_{\\min }}}$) with the parameters:\n",
    "\n",
    "$X_{\\min }=0$\n",
    "\n",
    "$X_{\\max }=255$\n",
    "\n",
    "$a=0.1$\n",
    "\n",
    "$b=0.9$"
   ]
  },
  {
   "cell_type": "code",
   "execution_count": null,
   "metadata": {
    "collapsed": true,
    "nbpresent": {
     "id": "e2058089-1b5d-4d28-901a-3c4b55c9f81e"
    }
   },
   "outputs": [],
   "source": [
    "# Problem 1 - Implement Min-Max scaling for grayscale image data\n",
    "def normalize_grayscale(image_data):\n",
    "    \"\"\"\n",
    "    Normalize the image data with Min-Max scaling to a range of [0.1, 0.9]\n",
    "    :param image_data: The image data to be normalized\n",
    "    :return: Normalized image data\n",
    "    \"\"\"\n",
    "    a = 0.1\n",
    "    b = 0.9\n",
    "    grayscale_min = 0\n",
    "    grayscale_max = 255\n",
    "    return a + ( ( (image_data - grayscale_min)*(b - a) )/( grayscale_max - grayscale_min ) )"
   ]
  },
  {
   "cell_type": "markdown",
   "metadata": {
    "nbpresent": {
     "id": "4b0b3095-4069-4351-806a-b9e96a18d29c"
    }
   },
   "source": [
    "## Problem 2\n",
    "- Use [tf.placeholder()](https://www.tensorflow.org/api_docs/python/io_ops.html#placeholder) for `features` and `labels` since they are the inputs to the model.\n",
    "- Any math operations must have the same type on both sides of the operator.  The weights are float32, so the `features` and `labels` must also be float32.\n",
    "- Use [tf.Variable()](https://www.tensorflow.org/api_docs/python/state_ops.html#Variable) to allow `weights` and `biases` to be modified.\n",
    "- The `weights` must be the dimensions of features by labels.  The number of features is the size of the image, 28*28=784.  The size of labels is 10.\n",
    "- The `biases` must be the dimensions of the labels, which is 10."
   ]
  },
  {
   "cell_type": "code",
   "execution_count": null,
   "metadata": {
    "collapsed": true,
    "nbpresent": {
     "id": "c854e8b1-98de-4e7b-937b-d21e80697d80"
    }
   },
   "outputs": [],
   "source": [
    "features_count = 784\n",
    "labels_count = 10\n",
    "\n",
    "# Problem 2 - Set the features and labels tensors\n",
    "features = tf.placeholder(tf.float32)\n",
    "labels = tf.placeholder(tf.float32)\n",
    "\n",
    "# Problem 2 - Set the weights and biases tensors\n",
    "weights = tf.Variable(tf.truncated_normal((features_count, labels_count)))\n",
    "biases = tf.Variable(tf.zeros(labels_count))"
   ]
  },
  {
   "cell_type": "markdown",
   "metadata": {
    "nbpresent": {
     "id": "9fea371b-9e11-4182-9f46-7e76cf1bb54f"
    }
   },
   "source": [
    "# Problem 3\n",
    "Configuration 1\n",
    "* **Epochs:** 1\n",
    "* **Learning Rate:** 0.1\n",
    "\n",
    "Configuration 2\n",
    "* **Epochs:** 4 or 5\n",
    "* **Learning Rate:** 0.2"
   ]
  }
 ],
 "metadata": {
  "kernelspec": {
   "display_name": "Python [default]",
   "language": "python",
   "name": "python3"
  },
  "language_info": {
   "codemirror_mode": {
    "name": "ipython",
    "version": 3
   },
   "file_extension": ".py",
   "mimetype": "text/x-python",
   "name": "python",
   "nbconvert_exporter": "python",
   "pygments_lexer": "ipython3",
   "version": "3.6.5"
  },
  "nbpresent": {
   "slides": {
    "10f510cb-f325-4068-9ee3-0ce421771bbc": {
     "id": "10f510cb-f325-4068-9ee3-0ce421771bbc",
     "prev": null,
     "regions": {}
    },
    "198895ab-14d2-4a28-921c-9dfcfee177e2": {
     "id": "198895ab-14d2-4a28-921c-9dfcfee177e2",
     "prev": "f8cb6cc8-e882-454b-98e5-0aa71cb7e473",
     "regions": {
      "91807eda-7c14-4a0b-b15b-e5147e4ebbb8": {
       "attrs": {
        "height": 0.8,
        "width": 0.8,
        "x": 0.1,
        "y": 0.1
       },
       "content": {
        "cell": "9fea371b-9e11-4182-9f46-7e76cf1bb54f",
        "part": "whole"
       },
       "id": "91807eda-7c14-4a0b-b15b-e5147e4ebbb8"
      }
     }
    },
    "3f95df8e-c608-435f-ac7e-15903a4fd2b7": {
     "id": "3f95df8e-c608-435f-ac7e-15903a4fd2b7",
     "prev": "4b30576c-b7f7-459e-8725-f296ccdb3fe9",
     "regions": {
      "f691d29c-3c91-4947-b1b6-965cb4c77d27": {
       "attrs": {
        "height": 0.8,
        "width": 0.8,
        "x": 0.1,
        "y": 0.1
       },
       "content": {
        "cell": "4b0b3095-4069-4351-806a-b9e96a18d29c",
        "part": "whole"
       },
       "id": "f691d29c-3c91-4947-b1b6-965cb4c77d27"
      }
     }
    },
    "4b30576c-b7f7-459e-8725-f296ccdb3fe9": {
     "id": "4b30576c-b7f7-459e-8725-f296ccdb3fe9",
     "prev": "51fb5a34-e746-4cc5-9590-7ff248d7d256",
     "regions": {
      "e0e50a44-c4d7-45ad-8594-145d9510e4d6": {
       "attrs": {
        "height": 0.8,
        "width": 0.8,
        "x": 0.1,
        "y": 0.1
       },
       "content": {
        "cell": "e2058089-1b5d-4d28-901a-3c4b55c9f81e",
        "part": "whole"
       },
       "id": "e0e50a44-c4d7-45ad-8594-145d9510e4d6"
      }
     }
    },
    "51fb5a34-e746-4cc5-9590-7ff248d7d256": {
     "id": "51fb5a34-e746-4cc5-9590-7ff248d7d256",
     "prev": null,
     "regions": {
      "3023e5b1-454d-4411-9f45-1abc5814f3a4": {
       "attrs": {
        "height": 0.8,
        "width": 0.8,
        "x": 0.1,
        "y": 0.1
       },
       "content": {
        "cell": "0abc0978-9e1d-4dc4-9bb3-361ecb95b9cf",
        "part": "whole"
       },
       "id": "3023e5b1-454d-4411-9f45-1abc5814f3a4"
      }
     }
    },
    "f8cb6cc8-e882-454b-98e5-0aa71cb7e473": {
     "id": "f8cb6cc8-e882-454b-98e5-0aa71cb7e473",
     "prev": "3f95df8e-c608-435f-ac7e-15903a4fd2b7",
     "regions": {
      "847fca1f-4ae8-4a8f-a15d-60f85e9cbfd9": {
       "attrs": {
        "height": 0.8,
        "width": 0.8,
        "x": 0.1,
        "y": 0.1
       },
       "content": {
        "cell": "c854e8b1-98de-4e7b-937b-d21e80697d80",
        "part": "whole"
       },
       "id": "847fca1f-4ae8-4a8f-a15d-60f85e9cbfd9"
      }
     }
    }
   },
   "themes": {}
  },
  "toc": {
   "base_numbering": 1,
   "nav_menu": {},
   "number_sections": true,
   "sideBar": true,
   "skip_h1_title": false,
   "title_cell": "Table of Contents",
   "title_sidebar": "Contents",
   "toc_cell": false,
   "toc_position": {},
   "toc_section_display": true,
   "toc_window_display": false
  }
 },
 "nbformat": 4,
 "nbformat_minor": 1
}
